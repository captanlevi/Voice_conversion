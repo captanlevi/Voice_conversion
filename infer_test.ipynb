{
 "cells": [
  {
   "cell_type": "code",
   "execution_count": 240,
   "source": [
    "from encoder.audio import preprocess_wav\n",
    "from encoder.inference import embed_utterance, load_model as load_embedding_model\n",
    "from pathlib import Path\n",
    "import soundfile as sf\n",
    "\n",
    "\n",
    "from synthesizer.inference import Synthesizer\n",
    "\n",
    "\n",
    "from vocoder.inference import load_model as load_vocoder , infer_waveform\n",
    "\n",
    "from synthesizer.audio import inv_mel_spectrogram\n",
    "from synthesizer.hparams import hparams\n",
    "import numpy as np\n",
    "import os\n",
    "import torch\n",
    "from joblib import Parallel, delayed\n",
    "import re"
   ],
   "outputs": [],
   "metadata": {}
  },
  {
   "cell_type": "code",
   "execution_count": 230,
   "source": [
    "hparams.tts_stop_threshold"
   ],
   "outputs": [
    {
     "output_type": "execute_result",
     "data": {
      "text/plain": [
       "-3.4"
      ]
     },
     "metadata": {},
     "execution_count": 230
    }
   ],
   "metadata": {}
  },
  {
   "cell_type": "code",
   "execution_count": 231,
   "source": [
    "encoder_model_path = Path(\"models/encoder.pt\")\n",
    "syn_model_path = Path(\"models/009/synthesizer.pt\")\n",
    "vocoder_model_path = Path(\"models/vocoder.pt\")\n",
    "\n",
    "\n",
    "\n",
    "#target_spk_path = \"demo/source/p374_113.wav\""
   ],
   "outputs": [],
   "metadata": {}
  },
  {
   "cell_type": "code",
   "execution_count": 193,
   "source": [
    "load_embedding_model(encoder_model_path)\n",
    "load_vocoder(vocoder_model_path)\n",
    "syn = Synthesizer(syn_model_path)"
   ],
   "outputs": [
    {
     "output_type": "stream",
     "name": "stdout",
     "text": [
      "Loaded encoder \"encoder.pt\" trained to step 1564501\n",
      "Building Wave-RNN\n",
      "Trainable Parameters: 4.481M\n",
      "Loading model weights at models/vocoder.pt\n",
      "Synthesizer using device: cpu\n"
     ]
    }
   ],
   "metadata": {}
  },
  {
   "cell_type": "code",
   "execution_count": 194,
   "source": [
    "#wav = preprocess_wav(source_spk_path)\n",
    "#source_spk_embedding = embed_utterance(wav)\n",
    "\n",
    "wav = preprocess_wav(target_spk_path)\n",
    "target_spk_embedding = embed_utterance(wav)"
   ],
   "outputs": [],
   "metadata": {}
  },
  {
   "cell_type": "code",
   "execution_count": 195,
   "source": [
    "syn_output = syn.synthesize_spectrograms(texts = [\"This cake is great. It's so delicious and moist.\"],embeddings = target_spk_embedding)[0]"
   ],
   "outputs": [
    {
     "output_type": "stream",
     "name": "stdout",
     "text": [
      "Trainable Parameters: 30.870M\n",
      "Loaded synthesizer \"synthesizer.pt\" trained to step 297000\n",
      "\n",
      "| Generating 1/1\n",
      "\n",
      "\n",
      "Done.\n",
      "\n"
     ]
    }
   ],
   "metadata": {}
  },
  {
   "cell_type": "markdown",
   "source": [],
   "metadata": {}
  },
  {
   "cell_type": "code",
   "execution_count": 196,
   "source": [
    "#mel_gan_vocoder =  torch.hub.load('descriptinc/melgan-neurips', 'load_melgan')"
   ],
   "outputs": [],
   "metadata": {}
  },
  {
   "cell_type": "code",
   "execution_count": 197,
   "source": [
    "#syn_output = np.load(\"models/001/mel-spectrograms/mel-prediction-step-1000_sample_1.npy\").T"
   ],
   "outputs": [],
   "metadata": {}
  },
  {
   "cell_type": "code",
   "execution_count": 198,
   "source": [
    "#wav_out = inv_mel_spectrogram(syn_output,hparams= hparams)\n",
    "wav_out= infer_waveform(syn_output)\n",
    "#wav_out = mel_gan_vocoder.inverse(torch.tensor(syn_output).unsqueeze(0)).numpy()[0]"
   ],
   "outputs": [
    {
     "output_type": "stream",
     "name": "stdout",
     "text": [
      "{| ████████████████ 57000/57600 | Batch Size: 6 | Gen Rate: 2.1kHz | }"
     ]
    }
   ],
   "metadata": {}
  },
  {
   "cell_type": "code",
   "execution_count": 199,
   "source": [
    "wav_out.shape"
   ],
   "outputs": [
    {
     "output_type": "execute_result",
     "data": {
      "text/plain": [
       "(45200,)"
      ]
     },
     "metadata": {},
     "execution_count": 199
    }
   ],
   "metadata": {}
  },
  {
   "cell_type": "code",
   "execution_count": 200,
   "source": [
    "sf.write(\"./demo/generated/{}\".format(os.path.split(target_spk_path)[-1]),wav_out,16000)"
   ],
   "outputs": [],
   "metadata": {}
  },
  {
   "cell_type": "code",
   "execution_count": null,
   "source": [
    "# VCTK p376 p374 p364 p363 p362 p360 p340 p298 p310 p345"
   ],
   "outputs": [],
   "metadata": {}
  },
  {
   "cell_type": "code",
   "execution_count": 244,
   "source": [
    "def infer(source_spks,source_dir,dump_dir,target_speechs):\n",
    "\n",
    "\n",
    "\n",
    "\n",
    "\n",
    "\n",
    "    args = []\n",
    "    for source_spk in source_spks:\n",
    "        for index,target_speech in enumerate(target_speechs):\n",
    "            source_spk_path  = os.path.join(source_dir,source_spk)\n",
    "            args.append((source_spk_path,target_speech,index))\n",
    "\n",
    "  \n",
    "\n",
    "    print(args)\n",
    "        \n",
    "\n",
    "    def makeAndWrite(arg):\n",
    "\n",
    "        load_embedding_model(encoder_model_path)\n",
    "        load_vocoder(vocoder_model_path,verbose= False)\n",
    "        syn = Synthesizer(syn_model_path,verbose= False)\n",
    "\n",
    "        source_spk_path,target_speech,index = arg\n",
    "        wav = preprocess_wav(source_spk_path)\n",
    "        source_spk_embedding = embed_utterance(wav)\n",
    "        syn_output = syn.synthesize_spectrograms(texts = [target_speech],embeddings = source_spk_embedding)[0]\n",
    "\n",
    "        wav_out= infer_waveform(syn_output)\n",
    "        dump_spk_dir = os.path.join(dump_dir,os.path.split(source_spk_path)[1])\n",
    "        if(os.path.exists(dump_spk_dir) == False):\n",
    "            os.mkdir(dump_spk_dir)\n",
    "        name = re.sub(r'[^a-zA-Z0-9_]', '', dump_spk_dir, \"_\".join(target_speech.lower().split()))\n",
    "        dump_path = os.path.join(dump_spk_dir,name+ \".wav\")\n",
    "    \n",
    "        sf.write(dump_path,wav_out,16000)\n",
    "\n",
    "    \n",
    "    Parallel(n_jobs=-1)(delayed(makeAndWrite)(arg)\n",
    "        for arg in args)"
   ],
   "outputs": [],
   "metadata": {}
  },
  {
   "cell_type": "code",
   "execution_count": 245,
   "source": [
    "target_speeches = [\"it took me quite a long time to develop a voice, and now that I have it I'm not going to be silent.\",\n",
    "\"Be a voice, not an echo.\",\n",
    "\"I'm sorry Dave. I'm afraid I can't do that.\",\n",
    "\"This cake is great. It's so delicious and moist.\",\n",
    "\"Prior to November 22, 1963.\"]"
   ],
   "outputs": [],
   "metadata": {}
  },
  {
   "cell_type": "code",
   "execution_count": 246,
   "source": [
    "infer(source_spks = [\"speaker1.wav\", \"speaker2.wav\", \"speaker3.wav\", \"speaker4.wav\", \"speaker5.wav\"],source_dir= \"demo/source\", dump_dir= \"demo/generated\",target_speechs= target_speeches)"
   ],
   "outputs": [
    {
     "output_type": "stream",
     "name": "stdout",
     "text": [
      "[('demo/source/speaker1.wav', \"it took me quite a long time to develop a voice, and now that I have it I'm not going to be silent.\", 0), ('demo/source/speaker1.wav', 'Be a voice, not an echo.', 1), ('demo/source/speaker1.wav', \"I'm sorry Dave. I'm afraid I can't do that.\", 2), ('demo/source/speaker1.wav', \"This cake is great. It's so delicious and moist.\", 3), ('demo/source/speaker1.wav', 'Prior to November 22, 1963.', 4), ('demo/source/speaker2.wav', \"it took me quite a long time to develop a voice, and now that I have it I'm not going to be silent.\", 0), ('demo/source/speaker2.wav', 'Be a voice, not an echo.', 1), ('demo/source/speaker2.wav', \"I'm sorry Dave. I'm afraid I can't do that.\", 2), ('demo/source/speaker2.wav', \"This cake is great. It's so delicious and moist.\", 3), ('demo/source/speaker2.wav', 'Prior to November 22, 1963.', 4), ('demo/source/speaker3.wav', \"it took me quite a long time to develop a voice, and now that I have it I'm not going to be silent.\", 0), ('demo/source/speaker3.wav', 'Be a voice, not an echo.', 1), ('demo/source/speaker3.wav', \"I'm sorry Dave. I'm afraid I can't do that.\", 2), ('demo/source/speaker3.wav', \"This cake is great. It's so delicious and moist.\", 3), ('demo/source/speaker3.wav', 'Prior to November 22, 1963.', 4), ('demo/source/speaker4.wav', \"it took me quite a long time to develop a voice, and now that I have it I'm not going to be silent.\", 0), ('demo/source/speaker4.wav', 'Be a voice, not an echo.', 1), ('demo/source/speaker4.wav', \"I'm sorry Dave. I'm afraid I can't do that.\", 2), ('demo/source/speaker4.wav', \"This cake is great. It's so delicious and moist.\", 3), ('demo/source/speaker4.wav', 'Prior to November 22, 1963.', 4), ('demo/source/speaker5.wav', \"it took me quite a long time to develop a voice, and now that I have it I'm not going to be silent.\", 0), ('demo/source/speaker5.wav', 'Be a voice, not an echo.', 1), ('demo/source/speaker5.wav', \"I'm sorry Dave. I'm afraid I can't do that.\", 2), ('demo/source/speaker5.wav', \"This cake is great. It's so delicious and moist.\", 3), ('demo/source/speaker5.wav', 'Prior to November 22, 1963.', 4)]\n",
      "Loaded encoder \"encoder.pt\" trained to step 1564501\n",
      "Loaded encoder \"encoder.pt\" trained to step 1564501\n",
      "Loaded encoder \"encoder.pt\" trained to step 1564501\n",
      "Loaded encoder \"encoder.pt\" trained to step 1564501\n",
      "Loaded encoder \"encoder.pt\" trained to step 1564501Loaded encoder \"encoder.pt\" trained to step 1564501\n",
      "\n",
      "Loaded encoder \"encoder.pt\" trained to step 1564501\n",
      "Loaded encoder \"encoder.pt\" trained to step 1564501\n",
      "Loaded encoder \"encoder.pt\" trained to step 1564501\n",
      "Loaded encoder \"encoder.pt\" trained to step 1564501\n",
      "Loaded encoder \"encoder.pt\" trained to step 1564501\n",
      "Loaded encoder \"encoder.pt\" trained to step 1564501\n",
      "Loaded encoder \"encoder.pt\" trained to step 1564501\n",
      "Loaded encoder \"encoder.pt\" trained to step 1564501\n",
      "Loaded encoder \"encoder.pt\" trained to step 1564501\n",
      "Loaded encoder \"encoder.pt\" trained to step 1564501\n",
      "Trainable Parameters: 4.481M\n",
      "Trainable Parameters: 4.481M\n",
      "Trainable Parameters: 4.481M\n",
      "Trainable Parameters: 4.481M\n",
      "Trainable Parameters: 4.481M\n",
      "Trainable Parameters: 4.481M\n",
      "Trainable Parameters: 4.481M\n",
      "Trainable Parameters: 4.481M\n",
      "Trainable Parameters: 4.481M\n",
      "Trainable Parameters: 4.481M\n",
      "Trainable Parameters: 4.481MTrainable Parameters: 4.481M\n",
      "\n",
      "Trainable Parameters: 4.481M\n",
      "Trainable Parameters: 4.481M\n",
      "Trainable Parameters: 4.481M\n",
      "Trainable Parameters: 4.481M\n",
      "Trainable Parameters: 30.870M\n",
      "Trainable Parameters: 30.870M\n",
      "Trainable Parameters: 30.870M\n",
      "Trainable Parameters: 30.870M\n",
      "Trainable Parameters: 30.870M\n",
      "Trainable Parameters: 30.870M\n",
      "Trainable Parameters: 30.870M\n",
      "Trainable Parameters: 30.870M\n",
      "Trainable Parameters: 30.870M\n",
      "Trainable Parameters: 30.870MTrainable Parameters: 30.870M\n",
      "\n",
      "Trainable Parameters: 30.870M\n",
      "Trainable Parameters: 30.870M\n",
      "Trainable Parameters: 30.870M\n",
      "Trainable Parameters: 30.870M\n",
      "Trainable Parameters: 30.870M\n"
     ]
    },
    {
     "output_type": "stream",
     "name": "stderr",
     "text": [
      "/Library/Frameworks/Python.framework/Versions/3.8/lib/python3.8/site-packages/torch/nn/functional.py:652: UserWarning: Named tensors and all their associated APIs are an experimental feature and subject to change. Please do not use them for anything important until they are released as stable. (Triggered internally at  ../c10/core/TensorImpl.h:1156.)\n",
      "  return torch.max_pool1d(input, kernel_size, stride, padding, dilation, ceil_mode)\n",
      "/Library/Frameworks/Python.framework/Versions/3.8/lib/python3.8/site-packages/torch/nn/functional.py:652: UserWarning: Named tensors and all their associated APIs are an experimental feature and subject to change. Please do not use them for anything important until they are released as stable. (Triggered internally at  ../c10/core/TensorImpl.h:1156.)\n",
      "  return torch.max_pool1d(input, kernel_size, stride, padding, dilation, ceil_mode)\n",
      "/Library/Frameworks/Python.framework/Versions/3.8/lib/python3.8/site-packages/torch/nn/functional.py:652: UserWarning: Named tensors and all their associated APIs are an experimental feature and subject to change. Please do not use them for anything important until they are released as stable. (Triggered internally at  ../c10/core/TensorImpl.h:1156.)\n",
      "  return torch.max_pool1d(input, kernel_size, stride, padding, dilation, ceil_mode)\n",
      "/Library/Frameworks/Python.framework/Versions/3.8/lib/python3.8/site-packages/torch/nn/functional.py:652: UserWarning: Named tensors and all their associated APIs are an experimental feature and subject to change. Please do not use them for anything important until they are released as stable. (Triggered internally at  ../c10/core/TensorImpl.h:1156.)\n",
      "  return torch.max_pool1d(input, kernel_size, stride, padding, dilation, ceil_mode)\n",
      "/Library/Frameworks/Python.framework/Versions/3.8/lib/python3.8/site-packages/torch/nn/functional.py:652: UserWarning: Named tensors and all their associated APIs are an experimental feature and subject to change. Please do not use them for anything important until they are released as stable. (Triggered internally at  ../c10/core/TensorImpl.h:1156.)\n",
      "  return torch.max_pool1d(input, kernel_size, stride, padding, dilation, ceil_mode)\n",
      "/Library/Frameworks/Python.framework/Versions/3.8/lib/python3.8/site-packages/torch/nn/functional.py:652: UserWarning: Named tensors and all their associated APIs are an experimental feature and subject to change. Please do not use them for anything important until they are released as stable. (Triggered internally at  ../c10/core/TensorImpl.h:1156.)\n",
      "  return torch.max_pool1d(input, kernel_size, stride, padding, dilation, ceil_mode)\n",
      "/Library/Frameworks/Python.framework/Versions/3.8/lib/python3.8/site-packages/torch/nn/functional.py:652: UserWarning: Named tensors and all their associated APIs are an experimental feature and subject to change. Please do not use them for anything important until they are released as stable. (Triggered internally at  ../c10/core/TensorImpl.h:1156.)\n",
      "  return torch.max_pool1d(input, kernel_size, stride, padding, dilation, ceil_mode)\n",
      "/Library/Frameworks/Python.framework/Versions/3.8/lib/python3.8/site-packages/torch/nn/functional.py:652: UserWarning: Named tensors and all their associated APIs are an experimental feature and subject to change. Please do not use them for anything important until they are released as stable. (Triggered internally at  ../c10/core/TensorImpl.h:1156.)\n",
      "  return torch.max_pool1d(input, kernel_size, stride, padding, dilation, ceil_mode)\n",
      "/Library/Frameworks/Python.framework/Versions/3.8/lib/python3.8/site-packages/torch/nn/functional.py:652: UserWarning: Named tensors and all their associated APIs are an experimental feature and subject to change. Please do not use them for anything important until they are released as stable. (Triggered internally at  ../c10/core/TensorImpl.h:1156.)\n",
      "  return torch.max_pool1d(input, kernel_size, stride, padding, dilation, ceil_mode)\n",
      "/Library/Frameworks/Python.framework/Versions/3.8/lib/python3.8/site-packages/torch/nn/functional.py:652: UserWarning: Named tensors and all their associated APIs are an experimental feature and subject to change. Please do not use them for anything important until they are released as stable. (Triggered internally at  ../c10/core/TensorImpl.h:1156.)\n",
      "  return torch.max_pool1d(input, kernel_size, stride, padding, dilation, ceil_mode)\n",
      "/Library/Frameworks/Python.framework/Versions/3.8/lib/python3.8/site-packages/torch/nn/functional.py:652: UserWarning: Named tensors and all their associated APIs are an experimental feature and subject to change. Please do not use them for anything important until they are released as stable. (Triggered internally at  ../c10/core/TensorImpl.h:1156.)\n",
      "  return torch.max_pool1d(input, kernel_size, stride, padding, dilation, ceil_mode)\n",
      "/Library/Frameworks/Python.framework/Versions/3.8/lib/python3.8/site-packages/torch/nn/functional.py:652: UserWarning: Named tensors and all their associated APIs are an experimental feature and subject to change. Please do not use them for anything important until they are released as stable. (Triggered internally at  ../c10/core/TensorImpl.h:1156.)\n",
      "  return torch.max_pool1d(input, kernel_size, stride, padding, dilation, ceil_mode)\n",
      "/Library/Frameworks/Python.framework/Versions/3.8/lib/python3.8/site-packages/torch/nn/functional.py:652: UserWarning: Named tensors and all their associated APIs are an experimental feature and subject to change. Please do not use them for anything important until they are released as stable. (Triggered internally at  ../c10/core/TensorImpl.h:1156.)\n",
      "  return torch.max_pool1d(input, kernel_size, stride, padding, dilation, ceil_mode)\n",
      "/Library/Frameworks/Python.framework/Versions/3.8/lib/python3.8/site-packages/torch/nn/functional.py:652: UserWarning: Named tensors and all their associated APIs are an experimental feature and subject to change. Please do not use them for anything important until they are released as stable. (Triggered internally at  ../c10/core/TensorImpl.h:1156.)\n",
      "  return torch.max_pool1d(input, kernel_size, stride, padding, dilation, ceil_mode)\n",
      "/Library/Frameworks/Python.framework/Versions/3.8/lib/python3.8/site-packages/torch/nn/functional.py:652: UserWarning: Named tensors and all their associated APIs are an experimental feature and subject to change. Please do not use them for anything important until they are released as stable. (Triggered internally at  ../c10/core/TensorImpl.h:1156.)\n",
      "  return torch.max_pool1d(input, kernel_size, stride, padding, dilation, ceil_mode)\n",
      "/Library/Frameworks/Python.framework/Versions/3.8/lib/python3.8/site-packages/torch/nn/functional.py:652: UserWarning: Named tensors and all their associated APIs are an experimental feature and subject to change. Please do not use them for anything important until they are released as stable. (Triggered internally at  ../c10/core/TensorImpl.h:1156.)\n",
      "  return torch.max_pool1d(input, kernel_size, stride, padding, dilation, ceil_mode)\n"
     ]
    },
    {
     "output_type": "stream",
     "name": "stdout",
     "text": [
      "Loaded encoder \"encoder.pt\" trained to step 1564501\n",
      "Loaded encoder \"encoder.pt\" trained to step 1564501\n",
      "Trainable Parameters: 4.481M\n",
      "Loaded encoder \"encoder.pt\" trained to step 1564501\n",
      "Trainable Parameters: 4.481M\n",
      "Trainable Parameters: 4.481M\n",
      "Trainable Parameters: 30.870M\n",
      "Trainable Parameters: 30.870M\n",
      "Trainable Parameters: 30.870M\n",
      "Loaded encoder \"encoder.pt\" trained to step 1564501\n",
      "Trainable Parameters: 4.481M\n",
      "Loaded encoder \"encoder.pt\" trained to step 1564501\n",
      "Trainable Parameters: 4.481M\n",
      "Trainable Parameters: 30.870M\n",
      "Trainable Parameters: 30.870M\n",
      "Loaded encoder \"encoder.pt\" trained to step 1564501\n",
      "Loaded encoder \"encoder.pt\" trained to step 1564501\n",
      "Trainable Parameters: 4.481M\n",
      "Trainable Parameters: 4.481M\n",
      "Loaded encoder \"encoder.pt\" trained to step 1564501\n",
      "Trainable Parameters: 4.481M\n",
      "Loaded encoder \"encoder.pt\" trained to step 1564501\n",
      "Trainable Parameters: 4.481M\n",
      "Trainable Parameters: 30.870M\n",
      "Trainable Parameters: 30.870M\n",
      "Trainable Parameters: 30.870M\n",
      "Trainable Parameters: 30.870M\n"
     ]
    },
    {
     "output_type": "error",
     "ename": "TypeError",
     "evalue": "'str' object cannot be interpreted as an integer",
     "traceback": [
      "\u001b[0;31m---------------------------------------------------------------------------\u001b[0m",
      "\u001b[0;31m_RemoteTraceback\u001b[0m                          Traceback (most recent call last)",
      "\u001b[0;31m_RemoteTraceback\u001b[0m: \n\"\"\"\nTraceback (most recent call last):\n  File \"/Library/Frameworks/Python.framework/Versions/3.8/lib/python3.8/site-packages/joblib/externals/loky/process_executor.py\", line 431, in _process_worker\n    r = call_item()\n  File \"/Library/Frameworks/Python.framework/Versions/3.8/lib/python3.8/site-packages/joblib/externals/loky/process_executor.py\", line 285, in __call__\n    return self.fn(*self.args, **self.kwargs)\n  File \"/Library/Frameworks/Python.framework/Versions/3.8/lib/python3.8/site-packages/joblib/_parallel_backends.py\", line 595, in __call__\n    return self.func(*args, **kwargs)\n  File \"/Library/Frameworks/Python.framework/Versions/3.8/lib/python3.8/site-packages/joblib/parallel.py\", line 262, in __call__\n    return [func(*args, **kwargs)\n  File \"/Library/Frameworks/Python.framework/Versions/3.8/lib/python3.8/site-packages/joblib/parallel.py\", line 262, in <listcomp>\n    return [func(*args, **kwargs)\n  File \"/var/folders/11/8n1zsg1n5tq94hq93gps67c00000gn/T/ipykernel_61247/4156951618.py\", line 34, in makeAndWrite\n  File \"/Library/Frameworks/Python.framework/Versions/3.8/lib/python3.8/re.py\", line 210, in sub\n    return _compile(pattern, flags).sub(repl, string, count)\nTypeError: 'str' object cannot be interpreted as an integer\n\"\"\"",
      "\nThe above exception was the direct cause of the following exception:\n",
      "\u001b[0;31mTypeError\u001b[0m                                 Traceback (most recent call last)",
      "\u001b[0;32m/var/folders/11/8n1zsg1n5tq94hq93gps67c00000gn/T/ipykernel_61247/2585623996.py\u001b[0m in \u001b[0;36m<module>\u001b[0;34m\u001b[0m\n\u001b[0;32m----> 1\u001b[0;31m \u001b[0minfer\u001b[0m\u001b[0;34m(\u001b[0m\u001b[0msource_spks\u001b[0m \u001b[0;34m=\u001b[0m \u001b[0;34m[\u001b[0m\u001b[0;34m\"speaker1.wav\"\u001b[0m\u001b[0;34m,\u001b[0m \u001b[0;34m\"speaker2.wav\"\u001b[0m\u001b[0;34m,\u001b[0m \u001b[0;34m\"speaker3.wav\"\u001b[0m\u001b[0;34m,\u001b[0m \u001b[0;34m\"speaker4.wav\"\u001b[0m\u001b[0;34m,\u001b[0m \u001b[0;34m\"speaker5.wav\"\u001b[0m\u001b[0;34m]\u001b[0m\u001b[0;34m,\u001b[0m\u001b[0msource_dir\u001b[0m\u001b[0;34m=\u001b[0m \u001b[0;34m\"demo/source\"\u001b[0m\u001b[0;34m,\u001b[0m \u001b[0mdump_dir\u001b[0m\u001b[0;34m=\u001b[0m \u001b[0;34m\"demo/generated\"\u001b[0m\u001b[0;34m,\u001b[0m\u001b[0mtarget_speechs\u001b[0m\u001b[0;34m=\u001b[0m \u001b[0mtarget_speeches\u001b[0m\u001b[0;34m)\u001b[0m\u001b[0;34m\u001b[0m\u001b[0;34m\u001b[0m\u001b[0m\n\u001b[0m",
      "\u001b[0;32m/var/folders/11/8n1zsg1n5tq94hq93gps67c00000gn/T/ipykernel_61247/4156951618.py\u001b[0m in \u001b[0;36minfer\u001b[0;34m(source_spks, source_dir, dump_dir, target_speechs)\u001b[0m\n\u001b[1;32m     38\u001b[0m \u001b[0;34m\u001b[0m\u001b[0m\n\u001b[1;32m     39\u001b[0m \u001b[0;34m\u001b[0m\u001b[0m\n\u001b[0;32m---> 40\u001b[0;31m     Parallel(n_jobs=-1)(delayed(makeAndWrite)(arg)\n\u001b[0m\u001b[1;32m     41\u001b[0m         for arg in args)\n",
      "\u001b[0;32m/Library/Frameworks/Python.framework/Versions/3.8/lib/python3.8/site-packages/joblib/parallel.py\u001b[0m in \u001b[0;36m__call__\u001b[0;34m(self, iterable)\u001b[0m\n\u001b[1;32m   1052\u001b[0m \u001b[0;34m\u001b[0m\u001b[0m\n\u001b[1;32m   1053\u001b[0m             \u001b[0;32mwith\u001b[0m \u001b[0mself\u001b[0m\u001b[0;34m.\u001b[0m\u001b[0m_backend\u001b[0m\u001b[0;34m.\u001b[0m\u001b[0mretrieval_context\u001b[0m\u001b[0;34m(\u001b[0m\u001b[0;34m)\u001b[0m\u001b[0;34m:\u001b[0m\u001b[0;34m\u001b[0m\u001b[0;34m\u001b[0m\u001b[0m\n\u001b[0;32m-> 1054\u001b[0;31m                 \u001b[0mself\u001b[0m\u001b[0;34m.\u001b[0m\u001b[0mretrieve\u001b[0m\u001b[0;34m(\u001b[0m\u001b[0;34m)\u001b[0m\u001b[0;34m\u001b[0m\u001b[0;34m\u001b[0m\u001b[0m\n\u001b[0m\u001b[1;32m   1055\u001b[0m             \u001b[0;31m# Make sure that we get a last message telling us we are done\u001b[0m\u001b[0;34m\u001b[0m\u001b[0;34m\u001b[0m\u001b[0;34m\u001b[0m\u001b[0m\n\u001b[1;32m   1056\u001b[0m             \u001b[0melapsed_time\u001b[0m \u001b[0;34m=\u001b[0m \u001b[0mtime\u001b[0m\u001b[0;34m.\u001b[0m\u001b[0mtime\u001b[0m\u001b[0;34m(\u001b[0m\u001b[0;34m)\u001b[0m \u001b[0;34m-\u001b[0m \u001b[0mself\u001b[0m\u001b[0;34m.\u001b[0m\u001b[0m_start_time\u001b[0m\u001b[0;34m\u001b[0m\u001b[0;34m\u001b[0m\u001b[0m\n",
      "\u001b[0;32m/Library/Frameworks/Python.framework/Versions/3.8/lib/python3.8/site-packages/joblib/parallel.py\u001b[0m in \u001b[0;36mretrieve\u001b[0;34m(self)\u001b[0m\n\u001b[1;32m    931\u001b[0m             \u001b[0;32mtry\u001b[0m\u001b[0;34m:\u001b[0m\u001b[0;34m\u001b[0m\u001b[0;34m\u001b[0m\u001b[0m\n\u001b[1;32m    932\u001b[0m                 \u001b[0;32mif\u001b[0m \u001b[0mgetattr\u001b[0m\u001b[0;34m(\u001b[0m\u001b[0mself\u001b[0m\u001b[0;34m.\u001b[0m\u001b[0m_backend\u001b[0m\u001b[0;34m,\u001b[0m \u001b[0;34m'supports_timeout'\u001b[0m\u001b[0;34m,\u001b[0m \u001b[0;32mFalse\u001b[0m\u001b[0;34m)\u001b[0m\u001b[0;34m:\u001b[0m\u001b[0;34m\u001b[0m\u001b[0;34m\u001b[0m\u001b[0m\n\u001b[0;32m--> 933\u001b[0;31m                     \u001b[0mself\u001b[0m\u001b[0;34m.\u001b[0m\u001b[0m_output\u001b[0m\u001b[0;34m.\u001b[0m\u001b[0mextend\u001b[0m\u001b[0;34m(\u001b[0m\u001b[0mjob\u001b[0m\u001b[0;34m.\u001b[0m\u001b[0mget\u001b[0m\u001b[0;34m(\u001b[0m\u001b[0mtimeout\u001b[0m\u001b[0;34m=\u001b[0m\u001b[0mself\u001b[0m\u001b[0;34m.\u001b[0m\u001b[0mtimeout\u001b[0m\u001b[0;34m)\u001b[0m\u001b[0;34m)\u001b[0m\u001b[0;34m\u001b[0m\u001b[0;34m\u001b[0m\u001b[0m\n\u001b[0m\u001b[1;32m    934\u001b[0m                 \u001b[0;32melse\u001b[0m\u001b[0;34m:\u001b[0m\u001b[0;34m\u001b[0m\u001b[0;34m\u001b[0m\u001b[0m\n\u001b[1;32m    935\u001b[0m                     \u001b[0mself\u001b[0m\u001b[0;34m.\u001b[0m\u001b[0m_output\u001b[0m\u001b[0;34m.\u001b[0m\u001b[0mextend\u001b[0m\u001b[0;34m(\u001b[0m\u001b[0mjob\u001b[0m\u001b[0;34m.\u001b[0m\u001b[0mget\u001b[0m\u001b[0;34m(\u001b[0m\u001b[0;34m)\u001b[0m\u001b[0;34m)\u001b[0m\u001b[0;34m\u001b[0m\u001b[0;34m\u001b[0m\u001b[0m\n",
      "\u001b[0;32m/Library/Frameworks/Python.framework/Versions/3.8/lib/python3.8/site-packages/joblib/_parallel_backends.py\u001b[0m in \u001b[0;36mwrap_future_result\u001b[0;34m(future, timeout)\u001b[0m\n\u001b[1;32m    540\u001b[0m         AsyncResults.get from multiprocessing.\"\"\"\n\u001b[1;32m    541\u001b[0m         \u001b[0;32mtry\u001b[0m\u001b[0;34m:\u001b[0m\u001b[0;34m\u001b[0m\u001b[0;34m\u001b[0m\u001b[0m\n\u001b[0;32m--> 542\u001b[0;31m             \u001b[0;32mreturn\u001b[0m \u001b[0mfuture\u001b[0m\u001b[0;34m.\u001b[0m\u001b[0mresult\u001b[0m\u001b[0;34m(\u001b[0m\u001b[0mtimeout\u001b[0m\u001b[0;34m=\u001b[0m\u001b[0mtimeout\u001b[0m\u001b[0;34m)\u001b[0m\u001b[0;34m\u001b[0m\u001b[0;34m\u001b[0m\u001b[0m\n\u001b[0m\u001b[1;32m    543\u001b[0m         \u001b[0;32mexcept\u001b[0m \u001b[0mCfTimeoutError\u001b[0m \u001b[0;32mas\u001b[0m \u001b[0me\u001b[0m\u001b[0;34m:\u001b[0m\u001b[0;34m\u001b[0m\u001b[0;34m\u001b[0m\u001b[0m\n\u001b[1;32m    544\u001b[0m             \u001b[0;32mraise\u001b[0m \u001b[0mTimeoutError\u001b[0m \u001b[0;32mfrom\u001b[0m \u001b[0me\u001b[0m\u001b[0;34m\u001b[0m\u001b[0;34m\u001b[0m\u001b[0m\n",
      "\u001b[0;32m/Library/Frameworks/Python.framework/Versions/3.8/lib/python3.8/concurrent/futures/_base.py\u001b[0m in \u001b[0;36mresult\u001b[0;34m(self, timeout)\u001b[0m\n\u001b[1;32m    437\u001b[0m                 \u001b[0;32mraise\u001b[0m \u001b[0mCancelledError\u001b[0m\u001b[0;34m(\u001b[0m\u001b[0;34m)\u001b[0m\u001b[0;34m\u001b[0m\u001b[0;34m\u001b[0m\u001b[0m\n\u001b[1;32m    438\u001b[0m             \u001b[0;32melif\u001b[0m \u001b[0mself\u001b[0m\u001b[0;34m.\u001b[0m\u001b[0m_state\u001b[0m \u001b[0;34m==\u001b[0m \u001b[0mFINISHED\u001b[0m\u001b[0;34m:\u001b[0m\u001b[0;34m\u001b[0m\u001b[0;34m\u001b[0m\u001b[0m\n\u001b[0;32m--> 439\u001b[0;31m                 \u001b[0;32mreturn\u001b[0m \u001b[0mself\u001b[0m\u001b[0;34m.\u001b[0m\u001b[0m__get_result\u001b[0m\u001b[0;34m(\u001b[0m\u001b[0;34m)\u001b[0m\u001b[0;34m\u001b[0m\u001b[0;34m\u001b[0m\u001b[0m\n\u001b[0m\u001b[1;32m    440\u001b[0m             \u001b[0;32melse\u001b[0m\u001b[0;34m:\u001b[0m\u001b[0;34m\u001b[0m\u001b[0;34m\u001b[0m\u001b[0m\n\u001b[1;32m    441\u001b[0m                 \u001b[0;32mraise\u001b[0m \u001b[0mTimeoutError\u001b[0m\u001b[0;34m(\u001b[0m\u001b[0;34m)\u001b[0m\u001b[0;34m\u001b[0m\u001b[0;34m\u001b[0m\u001b[0m\n",
      "\u001b[0;32m/Library/Frameworks/Python.framework/Versions/3.8/lib/python3.8/concurrent/futures/_base.py\u001b[0m in \u001b[0;36m__get_result\u001b[0;34m(self)\u001b[0m\n\u001b[1;32m    386\u001b[0m     \u001b[0;32mdef\u001b[0m \u001b[0m__get_result\u001b[0m\u001b[0;34m(\u001b[0m\u001b[0mself\u001b[0m\u001b[0;34m)\u001b[0m\u001b[0;34m:\u001b[0m\u001b[0;34m\u001b[0m\u001b[0;34m\u001b[0m\u001b[0m\n\u001b[1;32m    387\u001b[0m         \u001b[0;32mif\u001b[0m \u001b[0mself\u001b[0m\u001b[0;34m.\u001b[0m\u001b[0m_exception\u001b[0m\u001b[0;34m:\u001b[0m\u001b[0;34m\u001b[0m\u001b[0;34m\u001b[0m\u001b[0m\n\u001b[0;32m--> 388\u001b[0;31m             \u001b[0;32mraise\u001b[0m \u001b[0mself\u001b[0m\u001b[0;34m.\u001b[0m\u001b[0m_exception\u001b[0m\u001b[0;34m\u001b[0m\u001b[0;34m\u001b[0m\u001b[0m\n\u001b[0m\u001b[1;32m    389\u001b[0m         \u001b[0;32melse\u001b[0m\u001b[0;34m:\u001b[0m\u001b[0;34m\u001b[0m\u001b[0;34m\u001b[0m\u001b[0m\n\u001b[1;32m    390\u001b[0m             \u001b[0;32mreturn\u001b[0m \u001b[0mself\u001b[0m\u001b[0;34m.\u001b[0m\u001b[0m_result\u001b[0m\u001b[0;34m\u001b[0m\u001b[0;34m\u001b[0m\u001b[0m\n",
      "\u001b[0;31mTypeError\u001b[0m: 'str' object cannot be interpreted as an integer"
     ]
    }
   ],
   "metadata": {}
  },
  {
   "cell_type": "code",
   "execution_count": null,
   "source": [],
   "outputs": [],
   "metadata": {}
  }
 ],
 "metadata": {
  "orig_nbformat": 4,
  "language_info": {
   "name": "python",
   "version": "3.8.8",
   "mimetype": "text/x-python",
   "codemirror_mode": {
    "name": "ipython",
    "version": 3
   },
   "pygments_lexer": "ipython3",
   "nbconvert_exporter": "python",
   "file_extension": ".py"
  },
  "kernelspec": {
   "name": "python3",
   "display_name": "Python 3.8.8 64-bit"
  },
  "interpreter": {
   "hash": "aee8b7b246df8f9039afb4144a1f6fd8d2ca17a180786b69acc140d282b71a49"
  }
 },
 "nbformat": 4,
 "nbformat_minor": 2
}