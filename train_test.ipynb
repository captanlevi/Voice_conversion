{
 "cells": [
  {
   "cell_type": "code",
   "execution_count": 2,
   "source": [
    "from synthesizer.synthesizer_dataset import SynthesizerDataset\n",
    "from synthesizer.hparams import hparams\n",
    "from synthesizer.preprocess import preprocess_dataset,preprocess_speaker,create_embeddings\n",
    "from pathlib import Path\n",
    "from synthesizer.train import train"
   ],
   "outputs": [],
   "metadata": {}
  },
  {
   "cell_type": "code",
   "execution_count": null,
   "source": [
    "preprocess_dataset(datasets_root= Path(\"datasets\"), out_dir= Path(\"datasets/processed_comb\"),n_processes= 5,\n",
    "skip_existing= True,subfolders=\"\", no_alignments= True,hparams=hparams,datasets_name= \"SG\")"
   ],
   "outputs": [],
   "metadata": {}
  },
  {
   "cell_type": "code",
   "execution_count": 3,
   "source": [
    "create_embeddings(Path(\"datasets/processed_comb\"),Path(\"models/encoder.pt\"),n_processes= 16)"
   ],
   "outputs": [
    {
     "output_type": "stream",
     "name": "stderr",
     "text": [
      "Embedding:   0%|          | 0/7318 [00:00<?, ?utterances/s]"
     ]
    },
    {
     "output_type": "stream",
     "name": "stdout",
     "text": [
      "Loaded encoder \"encoder.pt\" trained to step 1564501\n",
      "Loaded encoder \"encoder.pt\" trained to step 1564501\n",
      "Loaded encoder \"encoder.pt\" trained to step 1564501\n",
      "Loaded encoder \"encoder.pt\" trained to step 1564501\n",
      "Loaded encoder \"encoder.pt\" trained to step 1564501\n",
      "Loaded encoder \"encoder.pt\" trained to step 1564501\n",
      "Loaded encoder \"encoder.pt\" trained to step 1564501\n",
      "Loaded encoder \"encoder.pt\" trained to step 1564501\n",
      "Loaded encoder \"encoder.pt\" trained to step 1564501\n",
      "Loaded encoder \"encoder.pt\" trained to step 1564501\n",
      "Loaded encoder \"encoder.pt\" trained to step 1564501\n",
      "Loaded encoder \"encoder.pt\" trained to step 1564501\n",
      "Loaded encoder \"encoder.pt\" trained to step 1564501\n",
      "Loaded encoder \"encoder.pt\" trained to step 1564501\n",
      "Loaded encoder \"encoder.pt\" trained to step 1564501\n",
      "Loaded encoder \"encoder.pt\" trained to step 1564501\n"
     ]
    },
    {
     "output_type": "stream",
     "name": "stderr",
     "text": [
      "Embedding: 100%|██████████| 7318/7318 [02:33<00:00, 47.64utterances/s]\n"
     ]
    }
   ],
   "metadata": {}
  },
  {
   "cell_type": "code",
   "execution_count": 3,
   "source": [
    "#preprocess_speaker(speaker_dir= Path(\"datasets/SG/NSC\"),out_dir=Path(\"datasets/output\"),skip_existing= True,hparams= hparams,no_alignments= True)"
   ],
   "outputs": [],
   "metadata": {}
  },
  {
   "cell_type": "code",
   "execution_count": null,
   "source": [
    "train(run_id= \"001\",syn_dir=Path(\"datasets/output\"),models_dir= Path(\"./models\"),save_every= 10,backup_every= 10,hparams= hparams,force_restart= False)"
   ],
   "outputs": [],
   "metadata": {}
  },
  {
   "cell_type": "code",
   "execution_count": null,
   "source": [],
   "outputs": [],
   "metadata": {}
  }
 ],
 "metadata": {
  "orig_nbformat": 4,
  "language_info": {
   "name": "python",
   "version": "3.8.8",
   "mimetype": "text/x-python",
   "codemirror_mode": {
    "name": "ipython",
    "version": 3
   },
   "pygments_lexer": "ipython3",
   "nbconvert_exporter": "python",
   "file_extension": ".py"
  },
  "kernelspec": {
   "name": "python3",
   "display_name": "Python 3.8.8 64-bit"
  },
  "interpreter": {
   "hash": "aee8b7b246df8f9039afb4144a1f6fd8d2ca17a180786b69acc140d282b71a49"
  }
 },
 "nbformat": 4,
 "nbformat_minor": 2
}